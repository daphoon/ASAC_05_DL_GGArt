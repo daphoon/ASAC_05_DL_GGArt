{
 "cells": [
  {
   "cell_type": "code",
   "execution_count": null,
   "id": "7c728f7d-352c-4059-a7cf-acc7aaf92055",
   "metadata": {},
   "outputs": [],
   "source": [
    "from PIL import Image\n",
    "import os\n",
    "\n",
    "# 폴더 경로 설정 (이미지가 저장된 폴더 경로)\n",
    "image_folder = '/Users/sowon/Downloads/tera1'\n",
    "resized_folder = '/Users/sowon/Downloads/tera_정사각형리사이즈'\n",
    "os.makedirs(resized_folder, exist_ok=True)\n",
    "\n",
    "# 이미지 크기 조정 함수\n",
    "def resize_image(image_path, save_path, target_size=(512, 512)):\n",
    "    try:\n",
    "        image = Image.open(image_path)\n",
    "        \n",
    "        # 이미지 크기 조정 (양쪽 사이즈를 512x512로)\n",
    "        resized_image = image.resize(target_size, Image.LANCZOS)\n",
    "        resized_image.save(save_path, quality=95)\n",
    "        print(f'Resized and saved: {save_path}')\n",
    "    except Exception as e:\n",
    "        print(f'Error resizing\b{image_path}: {e}')\n",
    "\n",
    "# 이미지 폴더의 모든 이미지 파일 순회\n",
    "for filename in os.listdir(image_folder):\n",
    "    if filename.endswith('.png'):\n",
    "        image_path = os.path.join(image_folder, filename)\n",
    "        save_path = os.path.join(resized_folder, filename)\n",
    "        resize_image(image_path, save_path)\n",
    "\n",
    "print(\"All images have been resized.\")"
   ]
  }
 ],
 "metadata": {
  "kernelspec": {
   "display_name": "Python 3 (ipykernel)",
   "language": "python",
   "name": "python3"
  },
  "language_info": {
   "codemirror_mode": {
    "name": "ipython",
    "version": 3
   },
   "file_extension": ".py",
   "mimetype": "text/x-python",
   "name": "python",
   "nbconvert_exporter": "python",
   "pygments_lexer": "ipython3",
   "version": "3.11.0"
  }
 },
 "nbformat": 4,
 "nbformat_minor": 5
}
